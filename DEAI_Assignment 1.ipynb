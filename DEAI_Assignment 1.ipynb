{
 "cells": [
  {
   "cell_type": "markdown",
   "id": "85d1a401",
   "metadata": {},
   "source": [
    "# Project Title: Bank Marketing Classification Project"
   ]
  },
  {
   "cell_type": "markdown",
   "id": "cb260bce",
   "metadata": {},
   "source": [
    "The idea of this teamwork is to implement step-by-step a classification analysis with Python’s data analysis and manipulation libraries like Pandas, NumPy, and Scikit-Learn. \n",
    "\n",
    "The entire project has been divided into three steps, including data preprocessing and visualization, training the ML model, and model tuning and validation. \n",
    "**Each phase must be completed by its respective deadline and submitted to the corresponding assignment on our itslearning platform.**\n",
    "\n",
    "The team size is 3-4 members.\n",
    "\n",
    "The evaluation of the teamwork will happen by re-performing the analysis and evaluating the results in the presence of the instructor. Please, use this Jupyter Notebook, documents the aims of your project, describes the dataset, documents your data analysis process, and evaluates the results i.e. make the analysis self-descriptive by adding Markdown comments and by using descriptive variable names.  \n",
    "\n",
    "The efforts of the individual team members will also be evaluated in the events.\n",
    "\n",
    "\n",
    "**Note: Throughout this assignment, students will only implement the first phase of the project, which is Step 1: Data Visualization and Preprocessing (2 grade units).**\n"
   ]
  },
  {
   "cell_type": "markdown",
   "id": "9e2a6112",
   "metadata": {},
   "source": [
    "### **Project Description:**      \n",
    "\n",
    "In this comprehensive machine learning project, students will tackle a classification task that has real-world applications in marketing and financial institutions. The project focuses on predicting whether a client will subscribe to a term deposit in a bank, based on a set of features obtained through marketing campaigns. This project offers a hands-on opportunity to apply various data preprocessing techniques, build and evaluate classification models, and make informed decisions based on the results.\n",
    "\n",
    "### **Project Goal:**\n",
    "\n",
    "The primary goal of this project is to develop an accurate classification model that can assist the bank's marketing team in identifying potential clients who are more likely to subscribe to term deposits (variable y). By achieving this goal, the bank can optimize its marketing efforts, reduce costs, and improve the overall efficiency of its campaigns.\n",
    "\n",
    "### **Potential Real-World Applications:**\n",
    "\n",
    "Understanding the outcome of this classification task has several practical applications:\n",
    "\n",
    "**1. Marketing Strategy Optimization:** The bank can use the predictive model to prioritize potential clients who are more likely to subscribe. This allows them to tailor marketing strategies and allocate resources more effectively, leading to higher conversion rates and reduced marketing expenses.\n",
    "\n",
    "**2. Resource Allocation:** The model's predictions can help the bank allocate resources, such as marketing personnel and budget, to regions or customer segments that are more likely to yield positive results.\n",
    "\n",
    "**3. Customer Relationship Management:** By identifying potential subscribers, the bank can personalize communication and services to meet the specific needs and preferences of clients, enhancing customer satisfaction and loyalty.\n",
    "\n",
    "**4. Risk Assessment:** The model can assist in assessing the risk associated with marketing campaigns. By identifying clients less likely to subscribe, the bank can avoid aggressive marketing approaches that could lead to negative customer experiences.\n",
    "\n",
    "### **Project Significance:**\n",
    "\n",
    "This project mirrors real-world challenges faced by marketing teams in financial institutions. By successfully completing this project, students will not only gain technical skills in machine learning but also learn how to apply their knowledge to solve practical business problems. They will understand the importance of data-driven decision-making and how classification models can have a significant impact on marketing and resource allocation strategies.\n",
    "\n",
    "### **Project Outcome:**\n",
    "\n",
    "At the end of this project, students will have developed and evaluated a classification model capable of predicting term deposit subscriptions. They will be able to justify their model selection and discuss its potential applications in marketing and financial institutions.\n",
    "\n",
    "Through this project, students will develop critical skills that are highly relevant in the data science and machine learning industry, as well as a deep understanding of the broader implications of their work.\n",
    "\n",
    "\n",
    "\n",
    "\n",
    "### **To pass this work, you must:**\n",
    "1. participate in using Python and some of its data analysis libraries.\n",
    "2. be active inthe group during the project and peresntation.\n",
    "3. collect at least 0,5 grade units from the ** marked tasks below in each steps.\n",
    "\n",
    "\n",
    "### **Deadlines of submissions:**\n",
    "\n",
    "Assignment 1: Monday 07.10.2024 at 8 a.m.\n",
    "\n",
    "Assignment 2: Friday 01.11.2024 at 8 a.m.\n",
    "\n",
    "Assignment 3: Friday 29.11.2024 at 8 a.m.\n",
    "\n",
    "### **Presentations Dates**\n",
    "\n",
    "Assignment 1: Tuesday 08.10.2024 (week 41)\n",
    "\n",
    "Assignment 2: Monday 04.11.2024  (week 45)\n",
    "\n",
    "Assignment 3: Monday  02.12.2024 (week 49)\n",
    "\n"
   ]
  },
  {
   "cell_type": "markdown",
   "id": "5075c857",
   "metadata": {},
   "source": [
    "# Project Submission:\n",
    "\n",
    "**Step 1 - Data Exploration and Preprocessing:**\n",
    "\n",
    "Please, book a time for your group to present your first Assignment on Tuesday 08.10 2024 (week 41). The 10-minute time slots will be published later in the course itsLearning's Overview. In Week 41, please submit your documented Jupyter Notebook or a link to its version control repository into the itsLearning return box no later than  Monday 07.10.2024 at 8 a.m.. You will present your assignment related to data exploration and preprocessing during this evaluation event.\n"
   ]
  },
  {
   "cell_type": "code",
   "execution_count": 23,
   "id": "19368a86",
   "metadata": {},
   "outputs": [],
   "source": [
    "## Enter your full name ##\n",
    "name = 'G4'\n",
    "grade = 0"
   ]
  },
  {
   "cell_type": "markdown",
   "id": "da7ef081",
   "metadata": {},
   "source": [
    "# **Assignmen 1**\n",
    "\n",
    "# Step 1: Data Visualization and Preprocessing (2 grade units)\n",
    "\n",
    "\n",
    "\n",
    "\n",
    "**Data Loading**: ** Start by loading the Bank Marketing Dataset (UCI) (https://archive.ics.uci.edu/dataset/222/bank+marketing) into your preferred data analysis environment (e.g., Python with libraries like Pandas and Matplotlib). (0,25 grade units)\n",
    "\n",
    "**Data Exploration:** Perform initial exploratory data analysis (EDA) to understand the dataset's structure, summary statistics, and data types. (0,25 grade units)\n",
    "\n",
    "**Data Splitting**: ** Split the preprocessed data into training and testing sets (e.g., 80% for training and 20% for testing). (0.25 grade units)\n",
    "\n",
    "**Handling Missing Values:** Identify and handle missing values appropriately (e.g., impute missing values or drop rows/columns with missing data). (0,5 grade units)\n",
    "\n",
    "**Encoding Categorical Features:** Convert categorical variables into numerical format using techniques like one-hot encoding or label encoding. (0,25 grade units)\n",
    "\n",
    "**Data Scaling:** Normalize/standardize numerical features to ensure they have the same scale. (0,25 grade units)\n",
    "\n",
    "**Data Visualization:** Create visualizations (e.g., histograms, box plots, and correlation matrices) to gain insights into the data distribution and relationships between features. (0,25 grade units)"
   ]
  },
  {
   "cell_type": "markdown",
   "id": "8df21be0",
   "metadata": {},
   "source": [
    "Install UCI ML Repository library"
   ]
  },
  {
   "cell_type": "code",
   "execution_count": 24,
   "id": "c499574d",
   "metadata": {},
   "outputs": [
    {
     "name": "stdout",
     "output_type": "stream",
     "text": [
      "^C\n"
     ]
    }
   ],
   "source": [
    "! pip install ucimlrepo"
   ]
  },
  {
   "cell_type": "markdown",
   "id": "f9546566",
   "metadata": {},
   "source": [
    "Import needed modules"
   ]
  },
  {
   "cell_type": "code",
   "execution_count": 1,
   "id": "5587e8b3",
   "metadata": {},
   "outputs": [
    {
     "name": "stdout",
     "output_type": "stream",
     "text": [
      "Collecting ucimlrepo\n",
      "  Downloading ucimlrepo-0.0.7-py3-none-any.whl.metadata (5.5 kB)\n",
      "Requirement already satisfied: pandas>=1.0.0 in c:\\users\\a121168\\appdata\\local\\anaconda3\\lib\\site-packages (from ucimlrepo) (2.2.2)\n",
      "Requirement already satisfied: certifi>=2020.12.5 in c:\\users\\a121168\\appdata\\local\\anaconda3\\lib\\site-packages (from ucimlrepo) (2024.6.2)\n",
      "Requirement already satisfied: numpy>=1.26.0 in c:\\users\\a121168\\appdata\\local\\anaconda3\\lib\\site-packages (from pandas>=1.0.0->ucimlrepo) (1.26.4)\n",
      "Requirement already satisfied: python-dateutil>=2.8.2 in c:\\users\\a121168\\appdata\\local\\anaconda3\\lib\\site-packages (from pandas>=1.0.0->ucimlrepo) (2.9.0.post0)\n",
      "Requirement already satisfied: pytz>=2020.1 in c:\\users\\a121168\\appdata\\local\\anaconda3\\lib\\site-packages (from pandas>=1.0.0->ucimlrepo) (2024.1)\n",
      "Requirement already satisfied: tzdata>=2022.7 in c:\\users\\a121168\\appdata\\local\\anaconda3\\lib\\site-packages (from pandas>=1.0.0->ucimlrepo) (2023.3)\n",
      "Requirement already satisfied: six>=1.5 in c:\\users\\a121168\\appdata\\local\\anaconda3\\lib\\site-packages (from python-dateutil>=2.8.2->pandas>=1.0.0->ucimlrepo) (1.16.0)\n",
      "Downloading ucimlrepo-0.0.7-py3-none-any.whl (8.0 kB)\n",
      "Installing collected packages: ucimlrepo\n",
      "Successfully installed ucimlrepo-0.0.7\n"
     ]
    }
   ],
   "source": [
    "import pandas as pd\n",
    "import numpy as np\n",
    "import matplotlib.pyplot as plt\n",
    "\n",
    "from ucimlrepo import fetch_ucirepo "
   ]
  },
  {
   "cell_type": "code",
   "execution_count": 22,
   "id": "0d04f89d",
   "metadata": {},
   "outputs": [
    {
     "name": "stdout",
     "output_type": "stream",
     "text": [
      "         y\n",
      "0       no\n",
      "1       no\n",
      "2       no\n",
      "3       no\n",
      "4       no\n",
      "...    ...\n",
      "45206  yes\n",
      "45207  yes\n",
      "45208  yes\n",
      "45209   no\n",
      "45210   no\n",
      "\n",
      "[45211 rows x 1 columns]\n",
      "       age           job   marital  education default  balance housing loan  \\\n",
      "0       58    management   married   tertiary      no     2143     yes   no   \n",
      "1       44    technician    single  secondary      no       29     yes   no   \n",
      "2       33  entrepreneur   married  secondary      no        2     yes  yes   \n",
      "3       47   blue-collar   married        NaN      no     1506     yes   no   \n",
      "4       33           NaN    single        NaN      no        1      no   no   \n",
      "...    ...           ...       ...        ...     ...      ...     ...  ...   \n",
      "45206   51    technician   married   tertiary      no      825      no   no   \n",
      "45207   71       retired  divorced    primary      no     1729      no   no   \n",
      "45208   72       retired   married  secondary      no     5715      no   no   \n",
      "45209   57   blue-collar   married  secondary      no      668      no   no   \n",
      "45210   37  entrepreneur   married  secondary      no     2971      no   no   \n",
      "\n",
      "         contact  day_of_week month  duration  campaign  pdays  previous  \\\n",
      "0            NaN            5   may       261         1     -1         0   \n",
      "1            NaN            5   may       151         1     -1         0   \n",
      "2            NaN            5   may        76         1     -1         0   \n",
      "3            NaN            5   may        92         1     -1         0   \n",
      "4            NaN            5   may       198         1     -1         0   \n",
      "...          ...          ...   ...       ...       ...    ...       ...   \n",
      "45206   cellular           17   nov       977         3     -1         0   \n",
      "45207   cellular           17   nov       456         2     -1         0   \n",
      "45208   cellular           17   nov      1127         5    184         3   \n",
      "45209  telephone           17   nov       508         4     -1         0   \n",
      "45210   cellular           17   nov       361         2    188        11   \n",
      "\n",
      "      poutcome  \n",
      "0          NaN  \n",
      "1          NaN  \n",
      "2          NaN  \n",
      "3          NaN  \n",
      "4          NaN  \n",
      "...        ...  \n",
      "45206      NaN  \n",
      "45207      NaN  \n",
      "45208  success  \n",
      "45209      NaN  \n",
      "45210    other  \n",
      "\n",
      "[45211 rows x 16 columns]\n",
      "{'uci_id': 222, 'name': 'Bank Marketing', 'repository_url': 'https://archive.ics.uci.edu/dataset/222/bank+marketing', 'data_url': 'https://archive.ics.uci.edu/static/public/222/data.csv', 'abstract': 'The data is related with direct marketing campaigns (phone calls) of a Portuguese banking institution. The classification goal is to predict if the client will subscribe a term deposit (variable y).', 'area': 'Business', 'tasks': ['Classification'], 'characteristics': ['Multivariate'], 'num_instances': 45211, 'num_features': 16, 'feature_types': ['Categorical', 'Integer'], 'demographics': ['Age', 'Occupation', 'Marital Status', 'Education Level'], 'target_col': ['y'], 'index_col': None, 'has_missing_values': 'yes', 'missing_values_symbol': 'NaN', 'year_of_dataset_creation': 2014, 'last_updated': 'Fri Aug 18 2023', 'dataset_doi': '10.24432/C5K306', 'creators': ['S. Moro', 'P. Rita', 'P. Cortez'], 'intro_paper': {'ID': 277, 'type': 'NATIVE', 'title': 'A data-driven approach to predict the success of bank telemarketing', 'authors': 'Sérgio Moro, P. Cortez, P. Rita', 'venue': 'Decision Support Systems', 'year': 2014, 'journal': None, 'DOI': '10.1016/j.dss.2014.03.001', 'URL': 'https://www.semanticscholar.org/paper/cab86052882d126d43f72108c6cb41b295cc8a9e', 'sha': None, 'corpus': None, 'arxiv': None, 'mag': None, 'acl': None, 'pmid': None, 'pmcid': None}, 'additional_info': {'summary': \"The data is related with direct marketing campaigns of a Portuguese banking institution. The marketing campaigns were based on phone calls. Often, more than one contact to the same client was required, in order to access if the product (bank term deposit) would be ('yes') or not ('no') subscribed. \\n\\nThere are four datasets: \\n1) bank-additional-full.csv with all examples (41188) and 20 inputs, ordered by date (from May 2008 to November 2010), very close to the data analyzed in [Moro et al., 2014]\\n2) bank-additional.csv with 10% of the examples (4119), randomly selected from 1), and 20 inputs.\\n3) bank-full.csv with all examples and 17 inputs, ordered by date (older version of this dataset with less inputs). \\n4) bank.csv with 10% of the examples and 17 inputs, randomly selected from 3 (older version of this dataset with less inputs). \\nThe smallest datasets are provided to test more computationally demanding machine learning algorithms (e.g., SVM). \\n\\nThe classification goal is to predict if the client will subscribe (yes/no) a term deposit (variable y).\", 'purpose': None, 'funded_by': None, 'instances_represent': None, 'recommended_data_splits': None, 'sensitive_data': None, 'preprocessing_description': None, 'variable_info': 'Input variables:\\n   # bank client data:\\n   1 - age (numeric)\\n   2 - job : type of job (categorical: \"admin.\",\"unknown\",\"unemployed\",\"management\",\"housemaid\",\"entrepreneur\",\"student\",\\n                                       \"blue-collar\",\"self-employed\",\"retired\",\"technician\",\"services\") \\n   3 - marital : marital status (categorical: \"married\",\"divorced\",\"single\"; note: \"divorced\" means divorced or widowed)\\n   4 - education (categorical: \"unknown\",\"secondary\",\"primary\",\"tertiary\")\\n   5 - default: has credit in default? (binary: \"yes\",\"no\")\\n   6 - balance: average yearly balance, in euros (numeric) \\n   7 - housing: has housing loan? (binary: \"yes\",\"no\")\\n   8 - loan: has personal loan? (binary: \"yes\",\"no\")\\n   # related with the last contact of the current campaign:\\n   9 - contact: contact communication type (categorical: \"unknown\",\"telephone\",\"cellular\") \\n  10 - day: last contact day of the month (numeric)\\n  11 - month: last contact month of year (categorical: \"jan\", \"feb\", \"mar\", ..., \"nov\", \"dec\")\\n  12 - duration: last contact duration, in seconds (numeric)\\n   # other attributes:\\n  13 - campaign: number of contacts performed during this campaign and for this client (numeric, includes last contact)\\n  14 - pdays: number of days that passed by after the client was last contacted from a previous campaign (numeric, -1 means client was not previously contacted)\\n  15 - previous: number of contacts performed before this campaign and for this client (numeric)\\n  16 - poutcome: outcome of the previous marketing campaign (categorical: \"unknown\",\"other\",\"failure\",\"success\")\\n\\n  Output variable (desired target):\\n  17 - y - has the client subscribed a term deposit? (binary: \"yes\",\"no\")\\n', 'citation': None}}\n",
      "           name     role         type      demographic  \\\n",
      "0           age  Feature      Integer              Age   \n",
      "1           job  Feature  Categorical       Occupation   \n",
      "2       marital  Feature  Categorical   Marital Status   \n",
      "3     education  Feature  Categorical  Education Level   \n",
      "4       default  Feature       Binary             None   \n",
      "5       balance  Feature      Integer             None   \n",
      "6       housing  Feature       Binary             None   \n",
      "7          loan  Feature       Binary             None   \n",
      "8       contact  Feature  Categorical             None   \n",
      "9   day_of_week  Feature         Date             None   \n",
      "10        month  Feature         Date             None   \n",
      "11     duration  Feature      Integer             None   \n",
      "12     campaign  Feature      Integer             None   \n",
      "13        pdays  Feature      Integer             None   \n",
      "14     previous  Feature      Integer             None   \n",
      "15     poutcome  Feature  Categorical             None   \n",
      "16            y   Target       Binary             None   \n",
      "\n",
      "                                          description  units missing_values  \n",
      "0                                                None   None             no  \n",
      "1   type of job (categorical: 'admin.','blue-colla...   None             no  \n",
      "2   marital status (categorical: 'divorced','marri...   None             no  \n",
      "3   (categorical: 'basic.4y','basic.6y','basic.9y'...   None             no  \n",
      "4                              has credit in default?   None             no  \n",
      "5                              average yearly balance  euros             no  \n",
      "6                                   has housing loan?   None             no  \n",
      "7                                  has personal loan?   None             no  \n",
      "8   contact communication type (categorical: 'cell...   None            yes  \n",
      "9                        last contact day of the week   None             no  \n",
      "10  last contact month of year (categorical: 'jan'...   None             no  \n",
      "11   last contact duration, in seconds (numeric). ...   None             no  \n",
      "12  number of contacts performed during this campa...   None             no  \n",
      "13  number of days that passed by after the client...   None            yes  \n",
      "14  number of contacts performed before this campa...   None             no  \n",
      "15  outcome of the previous marketing campaign (ca...   None            yes  \n",
      "16          has the client subscribed a term deposit?   None             no  \n"
     ]
    }
   ],
   "source": [
    "# Load the dataset\n",
    "\n",
    "# fetch dataset \n",
    "bank_marketing = fetch_ucirepo(id=222) \n",
    "  \n",
    "# data (as pandas dataframes) \n",
    "X = bank_marketing.data.features \n",
    "\n",
    "print(X)"
   ]
  },
  {
   "cell_type": "code",
   "execution_count": 36,
   "id": "170407a7",
   "metadata": {},
   "outputs": [
    {
     "name": "stdout",
     "output_type": "stream",
     "text": [
      "   age           job  marital  education default  balance housing loan  \\\n",
      "0   58    management  married   tertiary      no     2143     yes   no   \n",
      "1   44    technician   single  secondary      no       29     yes   no   \n",
      "2   33  entrepreneur  married  secondary      no        2     yes  yes   \n",
      "3   47   blue-collar  married        NaN      no     1506     yes   no   \n",
      "4   33           NaN   single        NaN      no        1      no   no   \n",
      "\n",
      "  contact  day_of_week month  duration  campaign  pdays  previous poutcome  \n",
      "0     NaN            5   may       261         1     -1         0      NaN  \n",
      "1     NaN            5   may       151         1     -1         0      NaN  \n",
      "2     NaN            5   may        76         1     -1         0      NaN  \n",
      "3     NaN            5   may        92         1     -1         0      NaN  \n",
      "4     NaN            5   may       198         1     -1         0      NaN  \n",
      "Data types start\n",
      "<class 'pandas.core.frame.DataFrame'>\n",
      "RangeIndex: 45211 entries, 0 to 45210\n",
      "Data columns (total 16 columns):\n",
      " #   Column       Non-Null Count  Dtype \n",
      "---  ------       --------------  ----- \n",
      " 0   age          45211 non-null  int64 \n",
      " 1   job          44923 non-null  object\n",
      " 2   marital      45211 non-null  object\n",
      " 3   education    43354 non-null  object\n",
      " 4   default      45211 non-null  object\n",
      " 5   balance      45211 non-null  int64 \n",
      " 6   housing      45211 non-null  object\n",
      " 7   loan         45211 non-null  object\n",
      " 8   contact      32191 non-null  object\n",
      " 9   day_of_week  45211 non-null  int64 \n",
      " 10  month        45211 non-null  object\n",
      " 11  duration     45211 non-null  int64 \n",
      " 12  campaign     45211 non-null  int64 \n",
      " 13  pdays        45211 non-null  int64 \n",
      " 14  previous     45211 non-null  int64 \n",
      " 15  poutcome     8252 non-null   object\n",
      "dtypes: int64(7), object(9)\n",
      "memory usage: 5.5+ MB\n",
      "None\n",
      "Data types end\n",
      "\n",
      "Describe Data\n",
      "                age        balance   day_of_week      duration      campaign  \\\n",
      "count  45211.000000   45211.000000  45211.000000  45211.000000  45211.000000   \n",
      "mean      40.936210    1362.272058     15.806419    258.163080      2.763841   \n",
      "std       10.618762    3044.765829      8.322476    257.527812      3.098021   \n",
      "min       18.000000   -8019.000000      1.000000      0.000000      1.000000   \n",
      "25%       33.000000      72.000000      8.000000    103.000000      1.000000   \n",
      "50%       39.000000     448.000000     16.000000    180.000000      2.000000   \n",
      "75%       48.000000    1428.000000     21.000000    319.000000      3.000000   \n",
      "max       95.000000  102127.000000     31.000000   4918.000000     63.000000   \n",
      "\n",
      "              pdays      previous  \n",
      "count  45211.000000  45211.000000  \n",
      "mean      40.197828      0.580323  \n",
      "std      100.128746      2.303441  \n",
      "min       -1.000000      0.000000  \n",
      "25%       -1.000000      0.000000  \n",
      "50%       -1.000000      0.000000  \n",
      "75%       -1.000000      0.000000  \n",
      "max      871.000000    275.000000  \n",
      "\n",
      "Describe: job\n",
      "count           44923\n",
      "unique             11\n",
      "top       blue-collar\n",
      "freq             9732\n",
      "Name: job, dtype: object\n",
      "\n",
      "Describe: marital\n",
      "count       45211\n",
      "unique          3\n",
      "top       married\n",
      "freq        27214\n",
      "Name: marital, dtype: object\n",
      "\n",
      "Describe: education\n",
      "count         43354\n",
      "unique            3\n",
      "top       secondary\n",
      "freq          23202\n",
      "Name: education, dtype: object\n",
      "\n",
      "Describe: default\n",
      "count     45211\n",
      "unique        2\n",
      "top          no\n",
      "freq      44396\n",
      "Name: default, dtype: object\n",
      "\n",
      "Describe: housing\n",
      "count     45211\n",
      "unique        2\n",
      "top         yes\n",
      "freq      25130\n",
      "Name: housing, dtype: object\n",
      "\n",
      "Describe: loan\n",
      "count     45211\n",
      "unique        2\n",
      "top          no\n",
      "freq      37967\n",
      "Name: loan, dtype: object\n",
      "\n",
      "Describe: contact\n",
      "count        32191\n",
      "unique           2\n",
      "top       cellular\n",
      "freq         29285\n",
      "Name: contact, dtype: object\n",
      "\n",
      "Describe: month\n",
      "count     45211\n",
      "unique       12\n",
      "top         may\n",
      "freq      13766\n",
      "Name: month, dtype: object\n",
      "\n",
      "Describe: poutcome\n",
      "count        8252\n",
      "unique          3\n",
      "top       failure\n",
      "freq         4901\n",
      "Name: poutcome, dtype: object\n",
      "\n",
      "Missing Values\n",
      "age                0\n",
      "job              288\n",
      "marital            0\n",
      "education       1857\n",
      "default            0\n",
      "balance            0\n",
      "housing            0\n",
      "loan               0\n",
      "contact        13020\n",
      "day_of_week        0\n",
      "month              0\n",
      "duration           0\n",
      "campaign           0\n",
      "pdays              0\n",
      "previous           0\n",
      "poutcome       36959\n",
      "dtype: int64\n"
     ]
    }
   ],
   "source": [
    "# Explore the data\n",
    "\n",
    "# Display the first few rows\n",
    "print(X.head())\n",
    "\n",
    "# Get data type information\n",
    "print(\"\\nData types\")\n",
    "print(X.info())\n",
    "\n",
    "# Get summary statistics\n",
    "print(\"\\nDescribe Data\")\n",
    "print(X.describe())\n",
    "\n",
    "# BEGIN: Loop through all object type fields and print description\n",
    "for column in X.select_dtypes(include=['object']).columns:\n",
    "    print(f\"\\nDescribe: {column}\")\n",
    "    print(X[column].describe())\n",
    "# END:\n",
    "\n",
    "# Check for missing values\n",
    "print(\"\\nMissing Values\")\n",
    "print(X.isnull().sum())\n",
    "\n"
   ]
  },
  {
   "cell_type": "code",
   "execution_count": 4,
   "id": "d82fba9a",
   "metadata": {},
   "outputs": [],
   "source": [
    "# Split data into training and testing sets\n",
    "\n"
   ]
  },
  {
   "cell_type": "code",
   "execution_count": 5,
   "id": "dc822436",
   "metadata": {},
   "outputs": [],
   "source": [
    "# Handle missing values (e.g., replace missing values with the mean of the column)\n",
    "\n",
    "# BEGIN: Loop through all object type fields and replace missing values with the mode\n",
    "for column in X.select_dtypes(include=['object']).columns:\n",
    "    X[column].fillna(X[column].mode()[0], inplace=True)\n",
    "# END\n"
   ]
  },
  {
   "cell_type": "code",
   "execution_count": 6,
   "id": "9acb264b",
   "metadata": {},
   "outputs": [],
   "source": [
    "# Encoding categorical features (e.g., one-hot encoding)\n"
   ]
  },
  {
   "cell_type": "code",
   "execution_count": 7,
   "id": "829d542f",
   "metadata": {},
   "outputs": [],
   "source": [
    "# Data Scaling (normalize numerical features)\n"
   ]
  },
  {
   "cell_type": "code",
   "execution_count": 8,
   "id": "43afb1cf",
   "metadata": {},
   "outputs": [],
   "source": [
    "# Data Visualization (e.g., histograms, box plots, and correlation matrices)\n"
   ]
  },
  {
   "cell_type": "code",
   "execution_count": 9,
   "id": "e332fdea",
   "metadata": {},
   "outputs": [],
   "source": [
    "#grade += 2"
   ]
  },
  {
   "cell_type": "markdown",
   "id": "74ce3bb3",
   "metadata": {},
   "source": [
    "# **Assignmen 2**\n",
    "\n",
    "# Step 2: Training Three Classification Models (1.5 grade units)\n",
    "\n",
    "\n",
    "**Model Selection:** Choose three classification algorithms: K-Nearest Neighbors (KNN), Logistic Regression, and Decision Tree. (0.5 grade units)\n",
    "\n",
    "**Model Training:** ** Train each of the selected models on the training dataset. (0.5 grade units)\n",
    "\n",
    "**Model Evaluation:** Evaluate the performance of each model on the testing dataset using appropriate evaluation metrics (e.g., accuracy, precision, recall, F1-score, ROC-AUC). (0.5 grade units)"
   ]
  },
  {
   "cell_type": "code",
   "execution_count": 10,
   "id": "bbca4a58",
   "metadata": {},
   "outputs": [],
   "source": [
    "# Step 2: Training Three Classification Models\n"
   ]
  },
  {
   "cell_type": "code",
   "execution_count": 11,
   "id": "649d5441",
   "metadata": {},
   "outputs": [],
   "source": [
    "# Initialize and train the models\n"
   ]
  },
  {
   "cell_type": "code",
   "execution_count": 12,
   "id": "64feeb10",
   "metadata": {},
   "outputs": [],
   "source": [
    "#grade += 2"
   ]
  },
  {
   "cell_type": "markdown",
   "id": "c92306c1",
   "metadata": {},
   "source": [
    "# **Assignmen 3**\n",
    "\n",
    "# Step 3: Model Tuning and Validation (Including ROC Curve Analysis and Model Selection Rationale) (1.5 grade units)\n",
    "\n",
    "\n",
    "**Hyperparameter Tuning**: ** Perform hyperparameter tuning for each model to optimize their performance. You can use techniques like grid search or random search. (0.25 grade units)\n",
    "\n",
    "**Cross-Validation:** Implement k-fold cross-validation to ensure that the models generalize well to new data. (0.25 grade units)\n",
    "\n",
    "**ROC Curve Analysis:** For each model, calculate the ROC curve and the corresponding area under the ROC curve (AUC-ROC) as a performance metric. Plot the ROC curves for visual comparison. (0.25 grade units)\n",
    "\n",
    "**Threshold Selection:** Determine the optimal threshold for classification by considering the ROC curve and choosing the point that balances sensitivity and specificity based on the problem's context. \n",
    "\n",
    "**Final Model Selection:** Select the best-performing model based on the AUC-ROC, cross-validation results, and other relevant evaluation metrics (e.g., accuracy, precision, recall, F1-score). (0.25 grade units)\n",
    "\n",
    "**Model Testing:** ** Evaluate the selected model on a separate validation dataset (if available) or the testing dataset from Step 1. (0.25 grade units)\n",
    "\n",
    "**Rationale for Model Selection:** In this section, provide a written explanation for why you chose the final model for testing. Discuss the key factors that influenced your decision, such as the AUC-ROC performance, cross-validation results, and any specific characteristics of the problem. Explain how the selected model aligns with the goals of the project and its potential practical applications. This step encourages critical thinking and demonstrates your understanding of the machine learning workflow. (0.25 grade units)"
   ]
  },
  {
   "cell_type": "code",
   "execution_count": 13,
   "id": "d505580e",
   "metadata": {},
   "outputs": [],
   "source": [
    "# Step 3: Model Tuning and Validation\n"
   ]
  },
  {
   "cell_type": "code",
   "execution_count": 14,
   "id": "1ff232c5",
   "metadata": {},
   "outputs": [],
   "source": [
    "# Perform ROC curve analysis and calculate AUC-ROC for each model\n"
   ]
  },
  {
   "cell_type": "code",
   "execution_count": 15,
   "id": "aacda6c3",
   "metadata": {},
   "outputs": [],
   "source": [
    "# Visualize ROC curves\n"
   ]
  },
  {
   "cell_type": "code",
   "execution_count": 16,
   "id": "fc0cafc7",
   "metadata": {},
   "outputs": [],
   "source": [
    "# Threshold Selection (You can manually select a threshold based on ROC analysis)\n"
   ]
  },
  {
   "cell_type": "code",
   "execution_count": 17,
   "id": "7d8c9e38",
   "metadata": {},
   "outputs": [],
   "source": [
    "# Final Model Selection (Select the best-performing model based on AUC-ROC)\n",
    "\n"
   ]
  },
  {
   "cell_type": "code",
   "execution_count": 18,
   "id": "0f960bbf",
   "metadata": {},
   "outputs": [],
   "source": [
    "# Model Testing (Evaluate the selected model on the testing dataset)\n"
   ]
  },
  {
   "cell_type": "code",
   "execution_count": 19,
   "id": "7f4fa80e",
   "metadata": {},
   "outputs": [],
   "source": [
    "# Rationale for Model Selection: \n",
    "# In this section, provide a written explanation for why you chose the final model for testing. Discuss the key factors that influenced your decision, such as the AUC-ROC performance, cross-validation results, and any specific characteristics of the problem. Explain how the selected model aligns with the goals of the project and its potential practical applications. This step encourages critical thinking and demonstrates your understanding of the machine learning workflow."
   ]
  },
  {
   "cell_type": "code",
   "execution_count": 20,
   "id": "8a19b0c2",
   "metadata": {},
   "outputs": [],
   "source": [
    "#grade += 1"
   ]
  },
  {
   "cell_type": "markdown",
   "id": "58d92b58",
   "metadata": {},
   "source": [
    "### Good Luck!"
   ]
  },
  {
   "cell_type": "code",
   "execution_count": null,
   "id": "7e49fa6f",
   "metadata": {},
   "outputs": [],
   "source": []
  }
 ],
 "metadata": {
  "kernelspec": {
   "display_name": "Python 3 (ipykernel)",
   "language": "python",
   "name": "python3"
  },
  "language_info": {
   "codemirror_mode": {
    "name": "ipython",
    "version": 3
   },
   "file_extension": ".py",
   "mimetype": "text/x-python",
   "name": "python",
   "nbconvert_exporter": "python",
   "pygments_lexer": "ipython3",
   "version": "3.12.4"
  }
 },
 "nbformat": 4,
 "nbformat_minor": 5
}
