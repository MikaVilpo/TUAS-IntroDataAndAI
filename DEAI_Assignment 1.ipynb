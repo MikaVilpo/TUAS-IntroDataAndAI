{
 "cells": [
  {
   "cell_type": "markdown",
   "id": "85d1a401",
   "metadata": {},
   "source": [
    "# Project Title: Bank Marketing Classification Project"
   ]
  },
  {
   "cell_type": "markdown",
   "id": "cb260bce",
   "metadata": {},
   "source": [
    "The idea of this teamwork is to implement step-by-step a classification analysis with Python’s data analysis and manipulation libraries like Pandas, NumPy, and Scikit-Learn. \n",
    "\n",
    "The entire project has been divided into three steps, including data preprocessing and visualization, training the ML model, and model tuning and validation. \n",
    "**Each phase must be completed by its respective deadline and submitted to the corresponding assignment on our itslearning platform.**\n",
    "\n",
    "The team size is 3-4 members.\n",
    "\n",
    "The evaluation of the teamwork will happen by re-performing the analysis and evaluating the results in the presence of the instructor. Please, use this Jupyter Notebook, documents the aims of your project, describes the dataset, documents your data analysis process, and evaluates the results i.e. make the analysis self-descriptive by adding Markdown comments and by using descriptive variable names.  \n",
    "\n",
    "The efforts of the individual team members will also be evaluated in the events.\n",
    "\n",
    "\n",
    "**Note: Throughout this assignment, students will only implement the first phase of the project, which is Step 1: Data Visualization and Preprocessing (2 grade units).**\n"
   ]
  },
  {
   "cell_type": "markdown",
   "id": "9e2a6112",
   "metadata": {},
   "source": [
    "### **Project Description:**      \n",
    "\n",
    "In this comprehensive machine learning project, students will tackle a classification task that has real-world applications in marketing and financial institutions. The project focuses on predicting whether a client will subscribe to a term deposit in a bank, based on a set of features obtained through marketing campaigns. This project offers a hands-on opportunity to apply various data preprocessing techniques, build and evaluate classification models, and make informed decisions based on the results.\n",
    "\n",
    "### **Project Goal:**\n",
    "\n",
    "The primary goal of this project is to develop an accurate classification model that can assist the bank's marketing team in identifying potential clients who are more likely to subscribe to term deposits (variable y). By achieving this goal, the bank can optimize its marketing efforts, reduce costs, and improve the overall efficiency of its campaigns.\n",
    "\n",
    "### **Potential Real-World Applications:**\n",
    "\n",
    "Understanding the outcome of this classification task has several practical applications:\n",
    "\n",
    "**1. Marketing Strategy Optimization:** The bank can use the predictive model to prioritize potential clients who are more likely to subscribe. This allows them to tailor marketing strategies and allocate resources more effectively, leading to higher conversion rates and reduced marketing expenses.\n",
    "\n",
    "**2. Resource Allocation:** The model's predictions can help the bank allocate resources, such as marketing personnel and budget, to regions or customer segments that are more likely to yield positive results.\n",
    "\n",
    "**3. Customer Relationship Management:** By identifying potential subscribers, the bank can personalize communication and services to meet the specific needs and preferences of clients, enhancing customer satisfaction and loyalty.\n",
    "\n",
    "**4. Risk Assessment:** The model can assist in assessing the risk associated with marketing campaigns. By identifying clients less likely to subscribe, the bank can avoid aggressive marketing approaches that could lead to negative customer experiences.\n",
    "\n",
    "### **Project Significance:**\n",
    "\n",
    "This project mirrors real-world challenges faced by marketing teams in financial institutions. By successfully completing this project, students will not only gain technical skills in machine learning but also learn how to apply their knowledge to solve practical business problems. They will understand the importance of data-driven decision-making and how classification models can have a significant impact on marketing and resource allocation strategies.\n",
    "\n",
    "### **Project Outcome:**\n",
    "\n",
    "At the end of this project, students will have developed and evaluated a classification model capable of predicting term deposit subscriptions. They will be able to justify their model selection and discuss its potential applications in marketing and financial institutions.\n",
    "\n",
    "Through this project, students will develop critical skills that are highly relevant in the data science and machine learning industry, as well as a deep understanding of the broader implications of their work.\n",
    "\n",
    "\n",
    "\n",
    "\n",
    "### **To pass this work, you must:**\n",
    "1. participate in using Python and some of its data analysis libraries.\n",
    "2. be active inthe group during the project and peresntation.\n",
    "3. collect at least 0,5 grade units from the ** marked tasks below in each steps.\n",
    "\n",
    "\n",
    "### **Deadlines of submissions:**\n",
    "\n",
    "Assignment 1: Monday 07.10.2024 at 8 a.m.\n",
    "\n",
    "Assignment 2: Friday 01.11.2024 at 8 a.m.\n",
    "\n",
    "Assignment 3: Friday 29.11.2024 at 8 a.m.\n",
    "\n",
    "### **Presentations Dates**\n",
    "\n",
    "Assignment 1: Tuesday 08.10.2024 (week 41)\n",
    "\n",
    "Assignment 2: Monday 04.11.2024  (week 45)\n",
    "\n",
    "Assignment 3: Monday  02.12.2024 (week 49)\n",
    "\n"
   ]
  },
  {
   "cell_type": "markdown",
   "id": "5075c857",
   "metadata": {},
   "source": [
    "# Project Submission:\n",
    "\n",
    "**Step 1 - Data Exploration and Preprocessing:**\n",
    "\n",
    "Please, book a time for your group to present your first Assignment on Tuesday 08.10 2024 (week 41). The 10-minute time slots will be published later in the course itsLearning's Overview. In Week 41, please submit your documented Jupyter Notebook or a link to its version control repository into the itsLearning return box no later than  Monday 07.10.2024 at 8 a.m.. You will present your assignment related to data exploration and preprocessing during this evaluation event.\n"
   ]
  },
  {
   "cell_type": "code",
   "execution_count": 3,
   "id": "19368a86",
   "metadata": {},
   "outputs": [],
   "source": [
    "## Enter your full name ##\n",
    "name = ''\n",
    "grade = 0"
   ]
  },
  {
   "cell_type": "markdown",
   "id": "da7ef081",
   "metadata": {},
   "source": [
    "# **Assignmen 1**\n",
    "\n",
    "# Step 1: Data Visualization and Preprocessing (2 grade units)\n",
    "\n",
    "\n",
    "\n",
    "\n",
    "**Data Loading**: ** Start by loading the Bank Marketing Dataset (UCI) (https://archive.ics.uci.edu/dataset/222/bank+marketing) into your preferred data analysis environment (e.g., Python with libraries like Pandas and Matplotlib). (0,25 grade units)\n",
    "\n",
    "**Data Exploration:** Perform initial exploratory data analysis (EDA) to understand the dataset's structure, summary statistics, and data types. (0,25 grade units)\n",
    "\n",
    "**Data Splitting**: ** Split the preprocessed data into training and testing sets (e.g., 80% for training and 20% for testing). (0.25 grade units)\n",
    "\n",
    "**Handling Missing Values:** Identify and handle missing values appropriately (e.g., impute missing values or drop rows/columns with missing data). (0,5 grade units)\n",
    "\n",
    "**Encoding Categorical Features:** Convert categorical variables into numerical format using techniques like one-hot encoding or label encoding. (0,25 grade units)\n",
    "\n",
    "**Data Scaling:** Normalize/standardize numerical features to ensure they have the same scale. (0,25 grade units)\n",
    "\n",
    "**Data Visualization:** Create visualizations (e.g., histograms, box plots, and correlation matrices) to gain insights into the data distribution and relationships between features. (0,25 grade units)"
   ]
  },
  {
   "cell_type": "code",
   "execution_count": null,
   "id": "5587e8b3",
   "metadata": {},
   "outputs": [],
   "source": [
    "! pip install ucimlrepo\n",
    "\n",
    "import pandas as pd\n",
    "import numpy as np\n",
    "import matplotlib.pyplot as plt\n",
    "\n",
    "from ucimlrepo import fetch_ucirepo "
   ]
  },
  {
   "cell_type": "code",
   "execution_count": null,
   "id": "0d04f89d",
   "metadata": {},
   "outputs": [],
   "source": [
    "# Load the dataset\n",
    "\n",
    "# fetch dataset \n",
    "bank_marketing = fetch_ucirepo(id=222) \n",
    "  \n",
    "# data (as pandas dataframes) \n",
    "X = bank_marketing.data.features \n",
    "y = bank_marketing.data.targets \n",
    "  \n",
    "# metadata \n",
    "print(bank_marketing.metadata) \n",
    "  \n",
    "# variable information \n",
    "print(bank_marketing.variables) \n"
   ]
  },
  {
   "cell_type": "code",
   "execution_count": null,
   "id": "170407a7",
   "metadata": {},
   "outputs": [],
   "source": [
    "# Explore the data\n",
    "\n",
    "# Display the first few rows\n",
    "# Get data type information\n",
    "# Get summary statistics"
   ]
  },
  {
   "cell_type": "code",
   "execution_count": null,
   "id": "d82fba9a",
   "metadata": {},
   "outputs": [],
   "source": [
    "# Split data into training and testing sets\n"
   ]
  },
  {
   "cell_type": "code",
   "execution_count": null,
   "id": "dc822436",
   "metadata": {},
   "outputs": [],
   "source": [
    "# Handle missing values (e.g., replace missing values with the mean of the column)\n"
   ]
  },
  {
   "cell_type": "code",
   "execution_count": null,
   "id": "9acb264b",
   "metadata": {},
   "outputs": [],
   "source": [
    "# Encoding categorical features (e.g., one-hot encoding)\n"
   ]
  },
  {
   "cell_type": "code",
   "execution_count": null,
   "id": "829d542f",
   "metadata": {},
   "outputs": [],
   "source": [
    "# Data Scaling (normalize numerical features)\n"
   ]
  },
  {
   "cell_type": "code",
   "execution_count": null,
   "id": "43afb1cf",
   "metadata": {},
   "outputs": [],
   "source": [
    "# Data Visualization (e.g., histograms, box plots, and correlation matrices)\n"
   ]
  },
  {
   "cell_type": "code",
   "execution_count": null,
   "id": "e332fdea",
   "metadata": {},
   "outputs": [],
   "source": [
    "#grade += 2"
   ]
  },
  {
   "cell_type": "markdown",
   "id": "74ce3bb3",
   "metadata": {},
   "source": [
    "# **Assignmen 2**\n",
    "\n",
    "# Step 2: Training Three Classification Models (1.5 grade units)\n",
    "\n",
    "\n",
    "**Model Selection:** Choose three classification algorithms: K-Nearest Neighbors (KNN), Logistic Regression, and Decision Tree. (0.5 grade units)\n",
    "\n",
    "**Model Training:** ** Train each of the selected models on the training dataset. (0.5 grade units)\n",
    "\n",
    "**Model Evaluation:** Evaluate the performance of each model on the testing dataset using appropriate evaluation metrics (e.g., accuracy, precision, recall, F1-score, ROC-AUC). (0.5 grade units)"
   ]
  },
  {
   "cell_type": "code",
   "execution_count": null,
   "id": "bbca4a58",
   "metadata": {},
   "outputs": [],
   "source": [
    "# Step 2: Training Three Classification Models\n"
   ]
  },
  {
   "cell_type": "code",
   "execution_count": null,
   "id": "649d5441",
   "metadata": {},
   "outputs": [],
   "source": [
    "# Initialize and train the models\n"
   ]
  },
  {
   "cell_type": "code",
   "execution_count": null,
   "id": "64feeb10",
   "metadata": {},
   "outputs": [],
   "source": [
    "#grade += 2"
   ]
  },
  {
   "cell_type": "markdown",
   "id": "c92306c1",
   "metadata": {},
   "source": [
    "# **Assignmen 3**\n",
    "\n",
    "# Step 3: Model Tuning and Validation (Including ROC Curve Analysis and Model Selection Rationale) (1.5 grade units)\n",
    "\n",
    "\n",
    "**Hyperparameter Tuning**: ** Perform hyperparameter tuning for each model to optimize their performance. You can use techniques like grid search or random search. (0.25 grade units)\n",
    "\n",
    "**Cross-Validation:** Implement k-fold cross-validation to ensure that the models generalize well to new data. (0.25 grade units)\n",
    "\n",
    "**ROC Curve Analysis:** For each model, calculate the ROC curve and the corresponding area under the ROC curve (AUC-ROC) as a performance metric. Plot the ROC curves for visual comparison. (0.25 grade units)\n",
    "\n",
    "**Threshold Selection:** Determine the optimal threshold for classification by considering the ROC curve and choosing the point that balances sensitivity and specificity based on the problem's context. \n",
    "\n",
    "**Final Model Selection:** Select the best-performing model based on the AUC-ROC, cross-validation results, and other relevant evaluation metrics (e.g., accuracy, precision, recall, F1-score). (0.25 grade units)\n",
    "\n",
    "**Model Testing:** ** Evaluate the selected model on a separate validation dataset (if available) or the testing dataset from Step 1. (0.25 grade units)\n",
    "\n",
    "**Rationale for Model Selection:** In this section, provide a written explanation for why you chose the final model for testing. Discuss the key factors that influenced your decision, such as the AUC-ROC performance, cross-validation results, and any specific characteristics of the problem. Explain how the selected model aligns with the goals of the project and its potential practical applications. This step encourages critical thinking and demonstrates your understanding of the machine learning workflow. (0.25 grade units)"
   ]
  },
  {
   "cell_type": "code",
   "execution_count": null,
   "id": "d505580e",
   "metadata": {},
   "outputs": [],
   "source": [
    "# Step 3: Model Tuning and Validation\n"
   ]
  },
  {
   "cell_type": "code",
   "execution_count": null,
   "id": "1ff232c5",
   "metadata": {},
   "outputs": [],
   "source": [
    "# Perform ROC curve analysis and calculate AUC-ROC for each model\n"
   ]
  },
  {
   "cell_type": "code",
   "execution_count": null,
   "id": "aacda6c3",
   "metadata": {},
   "outputs": [],
   "source": [
    "# Visualize ROC curves\n"
   ]
  },
  {
   "cell_type": "code",
   "execution_count": null,
   "id": "fc0cafc7",
   "metadata": {},
   "outputs": [],
   "source": [
    "# Threshold Selection (You can manually select a threshold based on ROC analysis)\n"
   ]
  },
  {
   "cell_type": "code",
   "execution_count": null,
   "id": "7d8c9e38",
   "metadata": {},
   "outputs": [],
   "source": [
    "# Final Model Selection (Select the best-performing model based on AUC-ROC)\n",
    "\n"
   ]
  },
  {
   "cell_type": "code",
   "execution_count": null,
   "id": "0f960bbf",
   "metadata": {},
   "outputs": [],
   "source": [
    "# Model Testing (Evaluate the selected model on the testing dataset)\n"
   ]
  },
  {
   "cell_type": "code",
   "execution_count": null,
   "id": "7f4fa80e",
   "metadata": {},
   "outputs": [],
   "source": [
    "# Rationale for Model Selection: \n",
    "# In this section, provide a written explanation for why you chose the final model for testing. Discuss the key factors that influenced your decision, such as the AUC-ROC performance, cross-validation results, and any specific characteristics of the problem. Explain how the selected model aligns with the goals of the project and its potential practical applications. This step encourages critical thinking and demonstrates your understanding of the machine learning workflow."
   ]
  },
  {
   "cell_type": "code",
   "execution_count": null,
   "id": "8a19b0c2",
   "metadata": {},
   "outputs": [],
   "source": [
    "#grade += 1"
   ]
  },
  {
   "cell_type": "markdown",
   "id": "58d92b58",
   "metadata": {},
   "source": [
    "### Good Luck!"
   ]
  },
  {
   "cell_type": "code",
   "execution_count": null,
   "id": "7e49fa6f",
   "metadata": {},
   "outputs": [],
   "source": []
  }
 ],
 "metadata": {
  "kernelspec": {
   "display_name": "Python 3 (ipykernel)",
   "language": "python",
   "name": "python3"
  },
  "language_info": {
   "codemirror_mode": {
    "name": "ipython",
    "version": 3
   },
   "file_extension": ".py",
   "mimetype": "text/x-python",
   "name": "python",
   "nbconvert_exporter": "python",
   "pygments_lexer": "ipython3",
   "version": "3.9.13"
  }
 },
 "nbformat": 4,
 "nbformat_minor": 5
}
